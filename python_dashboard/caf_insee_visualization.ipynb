{
 "cells": [
  {
   "cell_type": "code",
   "execution_count": 1,
   "metadata": {
    "collapsed": false
   },
   "outputs": [
    {
     "name": "stdout",
     "output_type": "stream",
     "text": [
      "0.3.0\n"
     ]
    }
   ],
   "source": [
    "import os\n",
    "import folium\n",
    "import pickle\n",
    "\n",
    "import json\n",
    "import pandas as pd\n",
    "import branca.colormap as cm\n",
    "from collections import defaultdict\n",
    "\n",
    "\n",
    "print(folium.__version__)\n"
   ]
  },
  {
   "cell_type": "code",
   "execution_count": 2,
   "metadata": {
    "collapsed": false
   },
   "outputs": [
    {
     "name": "stdout",
     "output_type": "stream",
     "text": [
      "loading IRIS data\n",
      "loading JSON data\n",
      "(51899, 2)\n"
     ]
    }
   ],
   "source": [
    "\n",
    "#us_states = os.path.join('..\\\\example\\\\data', 'us-states.json')\n",
    "#US_Unemployment_Oct2012 = os.path.join('..\\\\example\\\\data', 'US_Unemployment_Oct2012.csv')\n",
    "\n",
    "fr_iris = \"../BIGBASE/iris_clean.json\"\n",
    "\n",
    "print(\"loading IRIS data\")\n",
    "geo_json_data = json.load(open(fr_iris))\n",
    "print(\"loading JSON data\")\n",
    "with open('../BIGBASE/iris_revenu_dataviz.pickle', 'rb') as handle:\n",
    "    FR_Revenue = pickle.load(handle)\n",
    "\n",
    "FR_Revenue = FR_Revenue[[\"IRIS\",\"RFPQ211\"]]\n",
    "print(FR_Revenue.shape)\n",
    "\n",
    "#fr_revenue_dict = FR_Revenue.set_index('IRIS')['RFPQ211']\n",
    "\n",
    "fr_revenue_dict = defaultdict(lambda: 1400)\n",
    "\n",
    "for index, row in FR_Revenue.iterrows():\n",
    "    fr_revenue_dict[row[\"IRIS\"]]=row[\"RFPQ211\"]\n"
   ]
  },
  {
   "cell_type": "code",
   "execution_count": 11,
   "metadata": {
    "collapsed": false
   },
   "outputs": [
    {
     "data": {
      "text/plain": [
       "<matplotlib.figure.Figure at 0x1503c4128>"
      ]
     },
     "metadata": {},
     "output_type": "display_data"
    },
    {
     "data": {
      "image/png": "[encoded data removed]",
      "text/plain": [
       "<matplotlib.figure.Figure at 0x150238710>"
      ]
     },
     "metadata": {},
     "output_type": "display_data"
    }
   ],
   "source": [
    "import matplotlib.pyplot as plt\n",
    "import matplotlib\n",
    "matplotlib.style.use('ggplot')\n",
    "plt.figure();\n",
    "myplot = FR_Revenue[[\"RFPQ211\"]].plot.hist(bins=1000)\n",
    "plt.show()"
   ]
  },
  {
   "cell_type": "code",
   "execution_count": 8,
   "metadata": {
    "collapsed": false
   },
   "outputs": [
    {
     "data": {
      "text/plain": [
       "<folium.features.GeoJson at 0xcf6a6d8>"
      ]
     },
     "execution_count": 8,
     "metadata": {},
     "output_type": "execute_result"
    }
   ],
   "source": [
    "\n",
    "def my_color_function(feature):\n",
    "    \"\"\"Maps low values to green and hugh values to red.\"\"\"\n",
    "    if fr_revenue_dict[feature['properties']['DCOMIRIS']] > 22200:\n",
    "        return '#ff0000'\n",
    "    else:\n",
    "        return '#008000'\n",
    "\n",
    "#m = folium.Map([48.8566, 2.3522], tiles='cartodbpositron', zoom_start=2)\n",
    "m = folium.Map(width=250,height=250,location=[48.8566, 2.3522], zoom_start=4)\n",
    "\n",
    "folium.GeoJson(\n",
    "    geo_json_data,\n",
    "    style_function=lambda feature: {\n",
    "        'fillColor':  my_color_function(feature),\n",
    "        'color': 'black',\n",
    "        'weight': 2,\n",
    "        'dashArray': '5, 5'\n",
    "    }\n",
    ").add_to(m)\n",
    "\n",
    "\n",
    "\n",
    "#\n",
    "# def my_color_function(feature):\n",
    "#     \"\"\"Maps low values to green and hugh values to red.\"\"\"\n",
    "#     if unemployment_dict[feature['id']] > 6.5:\n",
    "#         return '#ff0000'\n",
    "#     else:\n",
    "#         return '#008000'\n",
    "#\n",
    "# m = folium.Map([43, -100], tiles='cartodbpositron', zoom_start=4)\n",
    "#\n",
    "# folium.GeoJson(\n",
    "#     geo_json_data,\n",
    "#     style_function=lambda feature: {\n",
    "#         'fillColor': my_color_function(feature),\n",
    "#         'color': 'black',\n",
    "#         'weight': 2,\n",
    "#         'dashArray': '5, 5'\n",
    "#     }\n",
    "# ).add_to(m)\n",
    "#\n",
    "# m.save(os.path.join('results', 'Colormaps_0.html'))\n",
    "#\n",
    "# m"
   ]
  },
  {
   "cell_type": "code",
   "execution_count": null,
   "metadata": {
    "collapsed": false
   },
   "outputs": [],
   "source": [
    "#m.save(os.path.join('results', 'Colormaps_2.html'))\n",
    "m"
   ]
  },
  {
   "cell_type": "code",
   "execution_count": null,
   "metadata": {
    "collapsed": true
   },
   "outputs": [],
   "source": []
  }
 ],
 "metadata": {
  "kernelspec": {
   "display_name": "Python 2",
   "language": "python",
   "name": "python2"
  },
  "language_info": {
   "codemirror_mode": {
    "name": "ipython",
    "version": 2
   },
   "file_extension": ".py",
   "mimetype": "text/x-python",
   "name": "python",
   "nbconvert_exporter": "python",
   "pygments_lexer": "ipython2",
   "version": "2.7.13"
  }
 },
 "nbformat": 4,
 "nbformat_minor": 0
}
